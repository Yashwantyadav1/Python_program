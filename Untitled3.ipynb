{
  "nbformat": 4,
  "nbformat_minor": 0,
  "metadata": {
    "colab": {
      "provenance": [],
      "authorship_tag": "ABX9TyO5BeNDN8QY/AoZreqEKHvS",
      "include_colab_link": true
    },
    "kernelspec": {
      "name": "python3",
      "display_name": "Python 3"
    },
    "language_info": {
      "name": "python"
    }
  },
  "cells": [
    {
      "cell_type": "markdown",
      "metadata": {
        "id": "view-in-github",
        "colab_type": "text"
      },
      "source": [
        "<a href=\"https://colab.research.google.com/github/Yashwantyadav1/Python_program/blob/main/Untitled3.ipynb\" target=\"_parent\"><img src=\"https://colab.research.google.com/assets/colab-badge.svg\" alt=\"Open In Colab\"/></a>"
      ]
    },
    {
      "cell_type": "code",
      "execution_count": 2,
      "metadata": {
        "colab": {
          "base_uri": "https://localhost:8080/"
        },
        "id": "C2B1kL5JaO0U",
        "outputId": "f055e562-9e6d-4a68-dc79-4daaab1c0d31"
      },
      "outputs": [
        {
          "output_type": "stream",
          "name": "stdout",
          "text": [
            "First list [2, 3, 4, 5, 6, 7, 8]\n",
            "Second list [4, 9, 16, 25, 36, 49, 64]\n",
            "{(7, 49), (2, 4), (4, 16), (8, 64), (6, 36), (3, 9), (5, 25)}\n",
            "<class 'set'>\n"
          ]
        }
      ],
      "source": [
        "first_list = [2,3,4,5,6,7,8]\n",
        "print(\"First list\" , first_list)\n",
        "\n",
        "second_list = [4,9,16,25,36,49,64]\n",
        "print(\"Second list\" , second_list)\n",
        "\n",
        "result = zip(first_list,second_list)\n",
        "result_set = set(result)\n",
        "print(result_set)\n",
        "print(type(result_set))"
      ]
    },
    {
      "cell_type": "code",
      "source": [],
      "metadata": {
        "id": "0mq_aERrbknT"
      },
      "execution_count": null,
      "outputs": []
    }
  ]
}