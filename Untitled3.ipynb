{
  "nbformat": 4,
  "nbformat_minor": 0,
  "metadata": {
    "colab": {
      "provenance": [],
      "authorship_tag": "ABX9TyMFZ81JcvzXE6anu67PnYBO",
      "include_colab_link": true
    },
    "kernelspec": {
      "name": "python3",
      "display_name": "Python 3"
    },
    "language_info": {
      "name": "python"
    }
  },
  "cells": [
    {
      "cell_type": "markdown",
      "metadata": {
        "id": "view-in-github",
        "colab_type": "text"
      },
      "source": [
        "<a href=\"https://colab.research.google.com/github/Yashwantyadav1/Python_program/blob/main/Untitled3.ipynb\" target=\"_parent\"><img src=\"https://colab.research.google.com/assets/colab-badge.svg\" alt=\"Open In Colab\"/></a>"
      ]
    },
    {
      "cell_type": "code",
      "execution_count": null,
      "metadata": {
        "colab": {
          "base_uri": "https://localhost:8080/"
        },
        "id": "C2B1kL5JaO0U",
        "outputId": "f055e562-9e6d-4a68-dc79-4daaab1c0d31"
      },
      "outputs": [
        {
          "output_type": "stream",
          "name": "stdout",
          "text": [
            "First list [2, 3, 4, 5, 6, 7, 8]\n",
            "Second list [4, 9, 16, 25, 36, 49, 64]\n",
            "{(7, 49), (2, 4), (4, 16), (8, 64), (6, 36), (3, 9), (5, 25)}\n",
            "<class 'set'>\n"
          ]
        }
      ],
      "source": [
        "first_list = [2,3,4,5,6,7,8]\n",
        "print(\"First list\" , first_list)\n",
        "\n",
        "second_list = [4,9,16,25,36,49,64]\n",
        "print(\"Second list\" , second_list)\n",
        "\n",
        "result = zip(first_list,second_list)\n",
        "result_set = set(result)\n",
        "print(result_set)\n",
        "print(type(result_set))"
      ]
    },
    {
      "cell_type": "code",
      "source": [
        "first_set ={23,42,65,57,78,83,39}\n",
        "print(\"First set\" , first_set)\n",
        "\n",
        "second_set = {57,83,29,35,67,73,43}\n",
        "print(\"Second set\" , second_set)\n",
        "\n",
        "intersection = first_set.intersection(second_set)\n",
        "print(\"Intersection\" , intersection)\n",
        "for item in intersection:\n",
        "    first_set.remove(item)\n",
        "    second_set.remove(item)\n",
        "print(\"First set\" , first_set)\n",
        "print(\"Second set\" , second_set)\n"
      ],
      "metadata": {
        "colab": {
          "base_uri": "https://localhost:8080/"
        },
        "id": "0mq_aERrbknT",
        "outputId": "b8b168ea-4672-4168-9c0f-88e65e3d8ece"
      },
      "execution_count": null,
      "outputs": [
        {
          "output_type": "stream",
          "name": "stdout",
          "text": [
            "First set {65, 83, 23, 39, 57, 42, 78}\n",
            "Second set {35, 67, 83, 73, 43, 29, 57}\n",
            "Intersection {57, 83}\n",
            "First set {65, 23, 39, 42, 78}\n",
            "Second set {35, 67, 73, 43, 29}\n"
          ]
        }
      ]
    },
    {
      "cell_type": "code",
      "source": [
        "first_set = {57,83,29}\n",
        "second_set = {57,83,29,35,67,73,43,48}\n",
        "print(\"First set\" , first_set)\n",
        "print(\"Second set\" , second_set)\n",
        "\n",
        "print(\"First set is subset of second set - \" , first_set.issubset(second_set))\n",
        "print(\"Second set is subset of first set - \" , second_set.issubset(first_set))\n",
        "print(\"first set is super set of second set - \" , first_set.issuperset(second_set))\n",
        "print(\"Second set is super set of first set - \" , second_set.issuperset(first_set))\n",
        "\n",
        "if first_set.issubset(second_set):\n",
        "    first_set.clear()\n",
        "    print(\"First set is empty\" , first_set)\n",
        "    print(\"Second set\" , second_set)\n",
        "\n",
        "if second_set.issubset(first_set):\n",
        "    second_set.clear()\n",
        "    print(\"Second set is empty\" , second_set)\n",
        "    print(\"First set\" , first_set)"
      ],
      "metadata": {
        "colab": {
          "base_uri": "https://localhost:8080/"
        },
        "id": "t5Xep6z3d4Nf",
        "outputId": "102c3170-177e-40a1-e06c-a7ca68c5fd3a"
      },
      "execution_count": null,
      "outputs": [
        {
          "output_type": "stream",
          "name": "stdout",
          "text": [
            "First set {57, 83, 29}\n",
            "Second set {35, 67, 73, 43, 48, 83, 57, 29}\n",
            "First set is subset of second set -  True\n",
            "Second set is subset of first set -  False\n",
            "first set is super set of second set -  False\n",
            "Second set is super set of first set -  True\n",
            "First set is empty set()\n",
            "Second set {35, 67, 73, 43, 48, 83, 57, 29}\n"
          ]
        }
      ]
    },
    {
      "cell_type": "code",
      "source": [
        "roll_number = [47,64,69,37,76,83,95,97]\n",
        "sample_dict ={'Jhon':47,'Emma':69,'Kelly':76,'Jason':97}\n",
        "print(\"List:\",roll_number)\n",
        "print(\"Dictionary:\",sample_dict)\n",
        "\n",
        "roll_number[:] = [item for item in roll_number if item in sample_dict.values()]\n",
        "print(\"after removing unwanted elements from list:\",roll_number)"
      ],
      "metadata": {
        "colab": {
          "base_uri": "https://localhost:8080/"
        },
        "id": "9FFXDJqRm4Wh",
        "outputId": "176e0aa6-9b3a-495e-a88b-70552384d67b"
      },
      "execution_count": null,
      "outputs": [
        {
          "output_type": "stream",
          "name": "stdout",
          "text": [
            "List: [47, 64, 69, 37, 76, 83, 95, 97]\n",
            "Dictionary: {'Jhon': 47, 'Emma': 69, 'Kelly': 76, 'Jason': 97}\n",
            "after removing unwanted elements from list: [47, 69, 76, 97]\n"
          ]
        }
      ]
    },
    {
      "cell_type": "code",
      "source": [
        "speed ={'jan':47,'feb':52,'march':47,'April':44,'May':52,'June':53,'july':54,'Aug':44,'Sept':54}\n",
        "print(\"Dictionary's values - \",speed.values())\n",
        "speed_list =list()\n",
        "for val in speed.values():\n",
        "    if val not in speed_list:\n",
        "        speed_list.append(val)\n",
        "print(\"unique list\",speed_list)\n"
      ],
      "metadata": {
        "colab": {
          "base_uri": "https://localhost:8080/"
        },
        "id": "c8sdd8tEm_BT",
        "outputId": "4dd5ac65-1633-4ae8-b7b2-d2c18584bdd7"
      },
      "execution_count": null,
      "outputs": [
        {
          "output_type": "stream",
          "name": "stdout",
          "text": [
            "Dictionary's values -  dict_values([47, 52, 47, 44, 52, 53, 54, 44, 54])\n",
            "unique list [47, 52, 44, 53, 54]\n"
          ]
        }
      ]
    },
    {
      "cell_type": "code",
      "source": [],
      "metadata": {
        "id": "CJJVCCntoGyQ"
      },
      "execution_count": null,
      "outputs": []
    }
  ]
}