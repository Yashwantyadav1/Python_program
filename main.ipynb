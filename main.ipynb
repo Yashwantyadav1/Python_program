{
 "cells": [
  {
   "cell_type": "code",
   "execution_count": null,
   "metadata": {
    "vscode": {
     "languageId": "plaintext"
    }
   },
   "outputs": [],
   "source": [
    "keys = ['Ten' , 'Twenety' , 'Thirty']\n",
    "values = [10,20,30]\n",
    "res_dict = dict(zip(keys , values))\n",
    "print(res_dict)"
   ]
  }
 ],
 "metadata": {
  "language_info": {
   "name": "python"
  }
 },
 "nbformat": 4,
 "nbformat_minor": 2
}
