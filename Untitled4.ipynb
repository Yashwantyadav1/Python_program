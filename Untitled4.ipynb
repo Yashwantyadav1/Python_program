{
  "nbformat": 4,
  "nbformat_minor": 0,
  "metadata": {
    "colab": {
      "provenance": [],
      "authorship_tag": "ABX9TyOhnAiigxc+12c6us26Z1WZ",
      "include_colab_link": true
    },
    "kernelspec": {
      "name": "python3",
      "display_name": "Python 3"
    },
    "language_info": {
      "name": "python"
    }
  },
  "cells": [
    {
      "cell_type": "markdown",
      "metadata": {
        "id": "view-in-github",
        "colab_type": "text"
      },
      "source": [
        "<a href=\"https://colab.research.google.com/github/Yashwantyadav1/Python_program/blob/main/Untitled4.ipynb\" target=\"_parent\"><img src=\"https://colab.research.google.com/assets/colab-badge.svg\" alt=\"Open In Colab\"/></a>"
      ]
    },
    {
      "cell_type": "code",
      "execution_count": null,
      "metadata": {
        "colab": {
          "base_uri": "https://localhost:8080/"
        },
        "id": "BoKLU_y6hNFr",
        "outputId": "31f06e73-f173-40b2-9708-95febce339cf"
      },
      "outputs": [
        {
          "output_type": "stream",
          "name": "stdout",
          "text": [
            "{'Black', 'Green', 'Yellow', 'Blue', 'orange', 'Red'}\n"
          ]
        }
      ],
      "source": [
        "sample_set = {\"Yellow\",\"orange\",\"Black\"}\n",
        "sample_list = [\"Blue\",\"Green\",\"Red\"]\n",
        "sample_set.update(sample_list)\n",
        "print(sample_set)\n"
      ]
    },
    {
      "cell_type": "code",
      "source": [
        "set1 = {10,20,30,40,50}\n",
        "set2 = {30,40,50,60,70}\n",
        "\n",
        "print(\"Original sets:\")\n",
        "print(set1)\n",
        "print(set2)\n",
        "print(\"\\nIntersection of two given sets:\")\n",
        "print(set1.intersection(set2))"
      ],
      "metadata": {
        "colab": {
          "base_uri": "https://localhost:8080/"
        },
        "id": "8khGT28lhxgu",
        "outputId": "6c56ed3b-6b1e-4af2-946e-f0630f2534fb"
      },
      "execution_count": null,
      "outputs": [
        {
          "output_type": "stream",
          "name": "stdout",
          "text": [
            "Original sets:\n",
            "{50, 20, 40, 10, 30}\n",
            "{50, 70, 40, 60, 30}\n",
            "\n",
            "Intersection of two given sets:\n",
            "{40, 50, 30}\n"
          ]
        }
      ]
    },
    {
      "cell_type": "code",
      "source": [
        "set1 = {10,20,30,40,50}\n",
        "set2 = {30,40,50,60,70}\n",
        "\n",
        "print(\"Original sets:\")\n",
        "print(set1)\n",
        "print(set2)\n",
        "print(\"\\nUnion of two given sets:\")\n",
        "print(set1.union(set2))"
      ],
      "metadata": {
        "colab": {
          "base_uri": "https://localhost:8080/"
        },
        "id": "pdBXEu2hjGHq",
        "outputId": "a4ea5843-d7a4-4a23-d6ed-bc0a2a139dfd"
      },
      "execution_count": null,
      "outputs": [
        {
          "output_type": "stream",
          "name": "stdout",
          "text": [
            "Original sets:\n",
            "{50, 20, 40, 10, 30}\n",
            "{50, 70, 40, 60, 30}\n",
            "\n",
            "Union of two given sets:\n",
            "{70, 40, 10, 50, 20, 60, 30}\n"
          ]
        }
      ]
    },
    {
      "cell_type": "code",
      "source": [
        "set1 = {10,20,30}\n",
        "set2 = {20,40,50}\n",
        "set1.difference_update(set2)\n",
        "print(set1)"
      ],
      "metadata": {
        "colab": {
          "base_uri": "https://localhost:8080/"
        },
        "id": "xruIzwnuk3tU",
        "outputId": "1d36ad17-383a-4053-a4cf-585ed5ed0c95"
      },
      "execution_count": null,
      "outputs": [
        {
          "output_type": "stream",
          "name": "stdout",
          "text": [
            "{10, 30}\n"
          ]
        }
      ]
    },
    {
      "cell_type": "code",
      "source": [
        "set1 = {10,20,30,40,50}\n",
        "set1.difference_update({10,20,30})\n",
        "print(set1)\n"
      ],
      "metadata": {
        "colab": {
          "base_uri": "https://localhost:8080/"
        },
        "id": "NXALQR-xmrVN",
        "outputId": "41fbf79b-2505-4b3b-8c0c-f9b0a2aea410"
      },
      "execution_count": null,
      "outputs": [
        {
          "output_type": "stream",
          "name": "stdout",
          "text": [
            "{50, 40}\n"
          ]
        }
      ]
    },
    {
      "cell_type": "code",
      "source": [
        "set1 = {10,20,30,40,50}\n",
        "set2 = {30,40,50,60,70}\n",
        "print(set1.symmetric_difference(set2))"
      ],
      "metadata": {
        "colab": {
          "base_uri": "https://localhost:8080/"
        },
        "id": "SwBLq-DAm5ed",
        "outputId": "414d8034-c198-4419-ad31-6ea709dfdf1b"
      },
      "execution_count": null,
      "outputs": [
        {
          "output_type": "stream",
          "name": "stdout",
          "text": [
            "{20, 70, 10, 60}\n"
          ]
        }
      ]
    },
    {
      "cell_type": "code",
      "source": [
        "set1 = {10,20,30,40,50}\n",
        "set2 = {60,70,80,90,10}\n",
        "\n",
        "if set1.isdisjoint(set2):\n",
        "    print(\"Two sets have no items in common\")\n",
        "else:\n",
        "    print(\"Two sets have items in common\")\n",
        "    print(set1.intersection(set2))"
      ],
      "metadata": {
        "colab": {
          "base_uri": "https://localhost:8080/"
        },
        "id": "wNq4mj-woZyw",
        "outputId": "06856325-a510-4e23-e042-11922c4b7402"
      },
      "execution_count": null,
      "outputs": [
        {
          "output_type": "stream",
          "name": "stdout",
          "text": [
            "Two sets have items in common\n",
            "{10}\n"
          ]
        }
      ]
    },
    {
      "cell_type": "code",
      "source": [
        "set1 = {10,20,30,40,50}\n",
        "set2 = {30,40,50,60,70}\n",
        "set1.symmetric_difference_update(set2)\n",
        "print(set1)"
      ],
      "metadata": {
        "colab": {
          "base_uri": "https://localhost:8080/"
        },
        "id": "ZTMPInqrpfOE",
        "outputId": "0d346f51-218b-45e5-961c-5da06f631bc2"
      },
      "execution_count": null,
      "outputs": [
        {
          "output_type": "stream",
          "name": "stdout",
          "text": [
            "{20, 70, 10, 60}\n"
          ]
        }
      ]
    },
    {
      "cell_type": "code",
      "source": [
        "set1 = {10,20,30,40,50}\n",
        "set2 = {30,40,50,60,70}\n",
        "set1.intersection_update(set2)\n",
        "print(set1)"
      ],
      "metadata": {
        "colab": {
          "base_uri": "https://localhost:8080/"
        },
        "id": "G2DYTvHWq68Z",
        "outputId": "0413a56d-0d4b-41fb-ce5f-17bd4d3f2aee"
      },
      "execution_count": null,
      "outputs": [
        {
          "output_type": "stream",
          "name": "stdout",
          "text": [
            "{40, 50, 30}\n"
          ]
        }
      ]
    },
    {
      "cell_type": "code",
      "source": [],
      "metadata": {
        "id": "oHCRJBNMsKbo"
      },
      "execution_count": null,
      "outputs": []
    }
  ]
}