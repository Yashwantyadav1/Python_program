{
  "nbformat": 4,
  "nbformat_minor": 0,
  "metadata": {
    "colab": {
      "provenance": [],
      "authorship_tag": "ABX9TyN0W0lNpWAMytjk73zC2wm8",
      "include_colab_link": true
    },
    "kernelspec": {
      "name": "python3",
      "display_name": "Python 3"
    },
    "language_info": {
      "name": "python"
    }
  },
  "cells": [
    {
      "cell_type": "markdown",
      "metadata": {
        "id": "view-in-github",
        "colab_type": "text"
      },
      "source": [
        "<a href=\"https://colab.research.google.com/github/Yashwantyadav1/Python_program/blob/main/Untitled0.ipynb\" target=\"_parent\"><img src=\"https://colab.research.google.com/assets/colab-badge.svg\" alt=\"Open In Colab\"/></a>"
      ]
    },
    {
      "cell_type": "code",
      "execution_count": null,
      "metadata": {
        "colab": {
          "base_uri": "https://localhost:8080/"
        },
        "id": "5Ssx_dhAlzKy",
        "outputId": "e5091e0b-e1ab-40e1-adee-8a2c7bd4cecd"
      },
      "outputs": [
        {
          "output_type": "stream",
          "name": "stdout",
          "text": [
            "[500, 400, 300, 200, 100]\n"
          ]
        }
      ],
      "source": [
        "list1 = [100,200,300,400,500]\n",
        "list1.reverse()\n",
        "print(list1)"
      ]
    },
    {
      "cell_type": "code",
      "source": [
        "list1  = [100,200,300,400,500]\n",
        "list1 = list1[::-1]\n",
        "print(list1)"
      ],
      "metadata": {
        "colab": {
          "base_uri": "https://localhost:8080/"
        },
        "id": "vkcqCATCmhJc",
        "outputId": "82fc30f3-f656-4271-e693-85823b4af156"
      },
      "execution_count": null,
      "outputs": [
        {
          "output_type": "stream",
          "name": "stdout",
          "text": [
            "[500, 400, 300, 200, 100]\n"
          ]
        }
      ]
    },
    {
      "cell_type": "code",
      "source": [
        "list1 = [\"M\",\"na\",\"i\",\"yash\"]\n",
        "list2 = [\"y\",\"me\",\"s\",\"want\"]\n",
        "list3 = [i+j for i,j in zip (list1, list2)]\n",
        "print(list3)"
      ],
      "metadata": {
        "colab": {
          "base_uri": "https://localhost:8080/"
        },
        "id": "KI-JfJySnUPB",
        "outputId": "ee08dd2e-9ebf-49fa-95ae-bfe209ff41c5"
      },
      "execution_count": null,
      "outputs": [
        {
          "output_type": "stream",
          "name": "stdout",
          "text": [
            "['My', 'name', 'is', 'yashwant']\n"
          ]
        }
      ]
    },
    {
      "cell_type": "code",
      "source": [
        "numbers = [1,2,3,4,5,6,7]\n",
        "# result list\n",
        "res = []\n",
        "for i in numbers:\n",
        "  # calculate square and to the result list\n",
        "  res. append(i*i)\n",
        "  print(res)"
      ],
      "metadata": {
        "colab": {
          "base_uri": "https://localhost:8080/"
        },
        "id": "ZcN6euDvoZR4",
        "outputId": "f60b362b-9ec6-480b-d238-f16e12e852f2"
      },
      "execution_count": null,
      "outputs": [
        {
          "output_type": "stream",
          "name": "stdout",
          "text": [
            "[1]\n",
            "[1, 4]\n",
            "[1, 4, 9]\n",
            "[1, 4, 9, 16]\n",
            "[1, 4, 9, 16, 25]\n",
            "[1, 4, 9, 16, 25, 36]\n",
            "[1, 4, 9, 16, 25, 36, 49]\n"
          ]
        }
      ]
    },
    {
      "cell_type": "code",
      "source": [
        "numbers = [1,2,3,4,5,6,7]\n",
        "res = [x*x for x in numbers ]\n",
        "print(res)"
      ],
      "metadata": {
        "colab": {
          "base_uri": "https://localhost:8080/"
        },
        "id": "9ZE3ZSfpsaJd",
        "outputId": "1c135af5-493e-4d46-fce0-db5dde254fd2"
      },
      "execution_count": null,
      "outputs": [
        {
          "output_type": "stream",
          "name": "stdout",
          "text": [
            "[1, 4, 9, 16, 25, 36, 49]\n"
          ]
        }
      ]
    },
    {
      "cell_type": "code",
      "source": [
        "list1 = [\"Hello\" , \"take\"]\n",
        "list2 = [\"Dear\" , \"sir\"]\n",
        "res = [x+y for x in  list1 for y in list2]\n",
        "print(res)"
      ],
      "metadata": {
        "colab": {
          "base_uri": "https://localhost:8080/"
        },
        "id": "hDao_2E4s5pU",
        "outputId": "ab583f61-7d93-43af-f2b1-28bf9734ed5e"
      },
      "execution_count": null,
      "outputs": [
        {
          "output_type": "stream",
          "name": "stdout",
          "text": [
            "['HelloDear', 'Hellosir', 'takeDear', 'takesir']\n"
          ]
        }
      ]
    },
    {
      "cell_type": "code",
      "source": [
        "list1 = [10,20,30,40]\n",
        "list2 =[100,200,300,400]\n",
        "\n",
        "for x , y in zip (list1 , list2[::-1]):\n",
        "  print(x,y)"
      ],
      "metadata": {
        "colab": {
          "base_uri": "https://localhost:8080/"
        },
        "id": "fcdf06DRt6Vo",
        "outputId": "493d2751-f1d8-4bc4-ac4d-f242e87cb46e"
      },
      "execution_count": null,
      "outputs": [
        {
          "output_type": "stream",
          "name": "stdout",
          "text": [
            "10 400\n",
            "20 300\n",
            "30 200\n",
            "40 100\n"
          ]
        }
      ]
    },
    {
      "cell_type": "code",
      "source": [
        "list1 = [\"Mike\",\"\",\"Emma\",\"kelly\",\"\",\"Brand\"]\n",
        "# remove None from list1 and convert result into list\n",
        "res = list(filter(None , list1))\n",
        "print(res)"
      ],
      "metadata": {
        "colab": {
          "base_uri": "https://localhost:8080/"
        },
        "id": "L0ggQVzXvJyl",
        "outputId": "eaa5f533-b514-4cf7-e18c-65b21e2f6405"
      },
      "execution_count": null,
      "outputs": [
        {
          "output_type": "stream",
          "name": "stdout",
          "text": [
            "['Mike', 'Emma', 'kelly', 'Brand']\n"
          ]
        }
      ]
    },
    {
      "cell_type": "code",
      "source": [
        "list1 = [10,20,[300,400,[5000,6000],500],30,40]\n",
        "# understand indexing\n",
        "# list1 [0] = 10\n",
        "# list[1] = 20\n",
        "# list1[2] = [300,400,[5000,6000],500]\n",
        "# list1[2][2] = [5000,6000]\n",
        "# list1[2][2][1] = 6000\n",
        "# solution\n",
        "list1[2][2].append(7000)\n",
        "print(list1)"
      ],
      "metadata": {
        "colab": {
          "base_uri": "https://localhost:8080/"
        },
        "id": "Hu-ZbNYEwAQX",
        "outputId": "2454a739-fb15-432c-c246-6e6bfdeef765"
      },
      "execution_count": null,
      "outputs": [
        {
          "output_type": "stream",
          "name": "stdout",
          "text": [
            "[10, 20, [300, 400, [5000, 6000, 7000], 500], 30, 40]\n"
          ]
        }
      ]
    },
    {
      "cell_type": "code",
      "source": [
        "list1 = [\"a\", \"b\" ,[\"c\" , [\"d\" , \"e\" , [\"f\" , \"g\"], \"k\"] , \"l\"] ,\"m\", \"n\"]\n",
        "sub_list = [\"h\", \"i\", \"j\"]\n",
        "# understand indexing\n",
        "# list1[2] = ['c',['d','e',['f','g'],'k'],'l']\n",
        "# list1[2][1] = ['d', 'e',['f','g'],'k']\n",
        "# list[2][1][2] = ['f','g']\n",
        "#solution\n",
        "list1[2][1][2].extend(sub_list)\n",
        "print(list1)"
      ],
      "metadata": {
        "colab": {
          "base_uri": "https://localhost:8080/"
        },
        "id": "UJBZRu-p1dv8",
        "outputId": "9c590b5e-2c0b-4b90-fd25-9dc41b17fa42"
      },
      "execution_count": null,
      "outputs": [
        {
          "output_type": "stream",
          "name": "stdout",
          "text": [
            "['a', 'b', ['c', ['d', 'e', ['f', 'g', 'h', 'i', 'j'], 'k'], 'l'], 'm', 'n']\n"
          ]
        }
      ]
    },
    {
      "cell_type": "code",
      "source": [
        "list1 = [5,10,15,20,25,50,20]\n",
        "#get the first occurance index\n",
        "index = list1.index(20)\n",
        "#update item present at location\n",
        "list1[index] = 200\n",
        "print(list1)"
      ],
      "metadata": {
        "colab": {
          "base_uri": "https://localhost:8080/"
        },
        "id": "2AHPlZTF4WYq",
        "outputId": "7e202227-e1f0-4fe6-fe46-eef915370539"
      },
      "execution_count": null,
      "outputs": [
        {
          "output_type": "stream",
          "name": "stdout",
          "text": [
            "[5, 10, 15, 200, 25, 50, 20]\n"
          ]
        }
      ]
    },
    {
      "cell_type": "code",
      "source": [
        "list1 = [5, 20, 15, 20, 25, 50, 20]\n",
        "\n",
        "# list comprehension\n",
        "# remove specific item and return a new list\n",
        "def remove_value(sample_list, val):\n",
        "    return [i for i in sample_list if i != val]\n",
        "\n",
        "# Call the function and print the result\n",
        "res = remove_value(list1, 20)\n",
        "print(res)\n"
      ],
      "metadata": {
        "colab": {
          "base_uri": "https://localhost:8080/"
        },
        "id": "zjkM7xbi57ee",
        "outputId": "d5488a62-7d89-4e14-db9b-0aef8cf1a981"
      },
      "execution_count": null,
      "outputs": [
        {
          "output_type": "stream",
          "name": "stdout",
          "text": [
            "[5, 15, 25, 50]\n"
          ]
        }
      ]
    },
    {
      "cell_type": "code",
      "source": [
        "list1 = [5,20,15,20,50,20]\n",
        "while 20 in list1:\n",
        "  list1.remove(20)\n",
        "  print(list1)"
      ],
      "metadata": {
        "colab": {
          "base_uri": "https://localhost:8080/"
        },
        "id": "78Km5nyO7CuS",
        "outputId": "35b563c1-fad7-47e7-8cac-9368cfc89f7d"
      },
      "execution_count": null,
      "outputs": [
        {
          "output_type": "stream",
          "name": "stdout",
          "text": [
            "[5, 15, 20, 50, 20]\n",
            "[5, 15, 50, 20]\n",
            "[5, 15, 50]\n"
          ]
        }
      ]
    }
  ]
}